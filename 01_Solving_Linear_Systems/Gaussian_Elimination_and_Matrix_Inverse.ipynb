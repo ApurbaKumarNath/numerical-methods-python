{
 "cells": [
  {
   "cell_type": "markdown",
   "metadata": {
    "id": "i1ymRQy2GhCY"
   },
   "source": [
    "## Part 1: Solving a Linear System Using the Inverse Matrix\n",
    "\n",
    "### Core Concept\n",
    "A system of $n$ linear equations with $n$ variables can be represented in matrix form as:\n",
    "$$ Ax = b $$\n",
    "where:\n",
    "- **A** is an $n \\times n$ square matrix of the coefficients.\n",
    "- **x** is an $n \\times 1$ column vector of the unknown variables.\n",
    "- **b** is an $n \\times 1$ column vector of the constant terms on the right-hand side.\n",
    "\n",
    "### The Solution Method\n",
    "If the matrix **A** is **non-singular**, it has a unique inverse, denoted as **A⁻¹**. A matrix is non-singular if and only if its determinant is non-zero (`det(A) ≠ 0`).\n",
    "\n",
    "The solution vector **x** can be found by pre-multiplying both sides of the equation by **A⁻¹**:\n",
    "$$ A^{-1}Ax = A^{-1}b $$\n",
    "Since $A^{-1}A = I$ (the identity matrix), the equation simplifies to:\n",
    "$$ x = A^{-1}b $$\n",
    "\n",
    "### Limitations\n",
    "While conceptually simple, this method has practical drawbacks:\n",
    "1.  **Computational Cost:** Calculating the inverse of a matrix is a computationally intensive process, especially for large matrices.\n",
    "2.  **Numerical Instability:** For matrices that are \"ill-conditioned\" (nearly singular), this method can lead to large numerical errors in the solution.\n",
    "\n",
    "For these reasons, while it is a valid theoretical approach, it is often less preferred in practice compared to methods like Gaussian Elimination."
   ]
  },
  {
   "cell_type": "code",
   "execution_count": null,
   "metadata": {
    "id": "u3BEAD8oGfQf"
   },
   "outputs": [],
   "source": [
    "import numpy as np\n",
    "\n",
    "def get_result_by_inverse_matrix(A, b):\n",
    "    \"\"\"\n",
    "    Solves the linear system Ax = b using the inverse matrix method.\n",
    "\n",
    "    Args:\n",
    "      A (np.ndarray): The n x n coefficient matrix.\n",
    "      b (np.ndarray): The n x 1 results vector.\n",
    "\n",
    "    Returns:\n",
    "      (np.ndarray): The solution vector x, or None if the matrix is singular.\n",
    "    \"\"\"\n",
    "    # Defensive programming: ensure the matrix is square\n",
    "    rows, cols = A.shape\n",
    "    if rows != cols:\n",
    "        print(\"Error: Input matrix A must be square.\")\n",
    "        return None\n",
    "\n",
    "    # --- Step 1: Check for Singularity ---\n",
    "    # A unique solution exists only if the determinant is non-zero.\n",
    "    determinant = np.linalg.det(A)\n",
    "    print(f\"Determinant of A: {determinant:.2f}\")\n",
    "\n",
    "    if np.isclose(determinant, 0): # Use np.isclose for floating-point comparison\n",
    "        print(\"Matrix is singular or nearly singular. No unique solution exists.\")\n",
    "        return None\n",
    "\n",
    "    # --- Step 2: Calculate the Inverse ---\n",
    "    # If the check passes, we can safely compute the inverse.\n",
    "    print(\"Matrix is non-singular. Calculating inverse...\")\n",
    "    A_inv = np.linalg.inv(A)\n",
    "\n",
    "    # --- Step 3: Find the Solution ---\n",
    "    # Multiply the inverse by the b vector to get x.\n",
    "    x = A_inv @ b # Using the @ operator for matrix-vector multiplication\n",
    "\n",
    "    return x"
   ]
  },
  {
   "cell_type": "code",
   "execution_count": null,
   "metadata": {
    "colab": {
     "base_uri": "https://localhost:8080/"
    },
    "executionInfo": {
     "elapsed": 39,
     "status": "ok",
     "timestamp": 1756338756544,
     "user": {
      "displayName": "Apurba Kumar Nath",
      "userId": "11121278900815178892"
     },
     "user_tz": -360
    },
    "id": "6CEpm89VHkBn",
    "outputId": "6893b825-a469-4e3e-94ba-1272a09da52c"
   },
   "outputs": [
    {
     "name": "stdout",
     "output_type": "stream",
     "text": [
      "Determinant of A: 8.00\n",
      "Matrix is non-singular. Calculating inverse...\n",
      "\n",
      "The solution vector is: [11.  -2.5 -6. ]\n",
      "Verification (A @ x): [0. 4. 4.]\n",
      "Original b vector:    [0 4 4]\n",
      "\n",
      "Verification successful!\n"
     ]
    }
   ],
   "source": [
    "# --- Test for Inverse Matrix Method ---\n",
    "# The linear system is:\n",
    "# 1x + 2y + 1z = 0\n",
    "# 1x - 2y + 2z = 4\n",
    "# 2x + 12y - 2z = 4\n",
    "\n",
    "data_A = np.array([[1, 2, 1], [1, -2, 2], [2, 12, -2]])\n",
    "data_b = np.array([0, 4, 4])\n",
    "\n",
    "solution_x = get_result_by_inverse_matrix(data_A, data_b)\n",
    "\n",
    "if solution_x is not None:\n",
    "    print(f\"\\nThe solution vector is: {solution_x}\")\n",
    "\n",
    "    # --- Verification ---\n",
    "    # The ultimate test: does A @ x produce our original b?\n",
    "    b_recreated = data_A @ solution_x\n",
    "    print(f\"Verification (A @ x): {b_recreated}\")\n",
    "    print(f\"Original b vector:    {data_b}\")\n",
    "    np.testing.assert_array_almost_equal(b_recreated, data_b)\n",
    "    print(\"\\nVerification successful!\")"
   ]
  },
  {
   "cell_type": "markdown",
   "metadata": {
    "id": "7QUDzos1HeE5"
   },
   "source": [
    "## Part 2: Solving a Linear System Using Gaussian Elimination\n",
    "\n",
    "### Core Concept\n",
    "Gaussian Elimination is a systematic algorithm for solving systems of linear equations by transforming the original system `Ax = b` into an equivalent, but much simpler, **upper triangular system** `Ux = y`. This new system can then be easily solved without computing a matrix inverse.\n",
    "\n",
    "The transformation is achieved using **elementary row operations**:\n",
    "1.  Adding a multiple of one row to another.\n",
    "2.  Swapping two rows (Pivoting - an important extension, not required by this lab's core task).\n",
    "3.  Multiplying a row by a non-zero constant.\n",
    "\n",
    "These operations are performed on an **augmented matrix** `[A|b]`, which is the `A` matrix with the `b` vector appended as an extra column. This ensures that the operations are applied to both `A` and `b` simultaneously, preserving the solution `x`.\n",
    "\n",
    "### The Algorithm: A Two-Step Process\n",
    "\n",
    "**Step 1: Forward Elimination**\n",
    "\n",
    "This is the main phase where we introduce zeros below the main diagonal to create the upper triangular matrix `U`.\n",
    "\n",
    "-   **Goal:** For each column `k` from `0` to `n-2`, we want to make all elements below the diagonal element `A[k,k]` equal to zero.\n",
    "-   **Process for column `k`:**\n",
    "    1.  The row `k` is the **pivot row**, and `A[k,k]` is the **pivot element**.\n",
    "    2.  For each row `i` below the pivot row (i.e., `i > k`):\n",
    "        a. Calculate a **multiplier**: `m = A[i, k] / A[k, k]`.\n",
    "        b. Update the entire row `i` with the operation: `Row_i = Row_i - m * Row_k`.\n",
    "-   **Result:** After iterating through all columns, the original augmented matrix `[A|b]` is transformed into `[U|y]`, where `U` is upper triangular.\n",
    "\n",
    "**Step 2: Backward Substitution**\n",
    "\n",
    "Now that the system is in the simple form `Ux = y`, we can solve for the variables starting from the bottom up.\n",
    "\n",
    "-   **Goal:** Find the values of $x_n, x_{n-1}, \\dots, x_1$.\n",
    "-   **Process:**\n",
    "    1.  The last equation in the system is `U[n-1, n-1] * x[n-1] = y[n-1]`. We can solve this directly for the last variable:\n",
    "        $$ x_{n-1} = \\frac{y_{n-1}}{U_{n-1, n-1}} $$\n",
    "    2.  The second-to-last equation is `U[n-2, n-2] * x[n-2] + U[n-2, n-1] * x[n-1] = y[n-2]`. Since we now know $x_{n-1}$, we can plug it in and solve for $x_{n-2}$.\n",
    "    3.  This process is repeated, working backwards up the matrix. The general formula is:\n",
    "        $$ x_j = \\frac{1}{U_{j,j}} \\left( y_j - \\sum_{k=j+1}^{n-1} U_{j,k} x_k \\right) $$\n",
    "        for $j = n-2, \\dots, 0$.\n",
    "\n",
    "This two-step process is more numerically stable and computationally efficient for large systems than the inverse matrix method."
   ]
  },
  {
   "cell_type": "code",
   "execution_count": null,
   "metadata": {
    "id": "T4wV-9DmHqjY"
   },
   "outputs": [],
   "source": [
    "import numpy as np\n",
    "import sys # Used for sys.exit in case of pivoting issues\n",
    "\n",
    "def get_result_gaussian_elimination(n, A):\n",
    "    \"\"\"\n",
    "    Solves the linear system Ax = b using Gaussian Elimination with\n",
    "    Backward Substitution.\n",
    "\n",
    "    Args:\n",
    "      n (int): The number of equations/variables (size of the square matrix A).\n",
    "      A (np.ndarray): The n x (n+1) augmented matrix [A|b].\n",
    "\n",
    "    Returns:\n",
    "      (np.ndarray): The solution vector x.\n",
    "    \"\"\"\n",
    "    # Create a floating-point copy to avoid modifying the original array\n",
    "    # and to ensure floating point division works as expected.\n",
    "    A = A.astype(np.float64)\n",
    "\n",
    "    #---------------------------------------------------------------------\n",
    "    # Step 1: Forward Elimination\n",
    "    #---------------------------------------------------------------------\n",
    "    # Iterate through the columns, making each the pivot column\n",
    "    for i in range(n):\n",
    "\n",
    "        # --- Pivoting Check ---\n",
    "        # If the pivot element A[i,i] is zero, a unique solution might not exist\n",
    "        # without row swapping (pivoting). For this lab's scope,\n",
    "        # we'll exit if this happens.\n",
    "        if A[i, i] == 0.0:\n",
    "            sys.exit('Divide by zero detected! Pivoting would be required.')\n",
    "\n",
    "        # Iterate through the rows below the current pivot row\n",
    "        for j in range(i + 1, n):\n",
    "            # Calculate the multiplier\n",
    "            multiplier = A[j, i] / A[i, i]\n",
    "\n",
    "            # Apply the row operation: Row_j = Row_j - multiplier * Row_i\n",
    "            # This is applied to the entire augmented row\n",
    "            A[j] = A[j] - multiplier * A[i]\n",
    "\n",
    "    print(\"--- Upper Triangular Matrix ---\")\n",
    "    print(np.round(A, 3)) # Round for cleaner display\n",
    "\n",
    "    #---------------------------------------------------------------------\n",
    "    # Step 2: Backward Substitution\n",
    "    #---------------------------------------------------------------------\n",
    "    # Create an empty vector to store our solution x\n",
    "    x = np.zeros(n)\n",
    "\n",
    "    # First, solve for the last variable, x[n-1], directly.\n",
    "    # The last row of the augmented matrix represents U[n-1,n-1]*x[n-1] = y[n-1]\n",
    "    x[n-1] = A[n-1, n] / A[n-1, n-1]\n",
    "\n",
    "    # Now, loop backwards from the second-to-last row (n-2) up to the first row (0)\n",
    "    for i in range(n - 2, -1, -1):\n",
    "        # This part implements the formula:\n",
    "        # x[i] = ( y[i] - sum(U[i,k]*x[k] for k from i+1 to n-1) ) / U[i,i]\n",
    "\n",
    "        # The sum part can be done efficiently with a dot product\n",
    "        sum_term = np.dot(A[i, i+1:n], x[i+1:n])\n",
    "\n",
    "        # The y[i] term is now A[i,n] in our modified augmented matrix\n",
    "        x[i] = (A[i, n] - sum_term) / A[i, i]\n",
    "\n",
    "    return x"
   ]
  },
  {
   "cell_type": "code",
   "execution_count": null,
   "metadata": {
    "colab": {
     "base_uri": "https://localhost:8080/"
    },
    "executionInfo": {
     "elapsed": 16,
     "status": "ok",
     "timestamp": 1756339081166,
     "user": {
      "displayName": "Apurba Kumar Nath",
      "userId": "11121278900815178892"
     },
     "user_tz": -360
    },
    "id": "Nk30AY9NIc-0",
    "outputId": "a3bc32a1-350f-4741-f07b-ee6d63175305"
   },
   "outputs": [
    {
     "name": "stdout",
     "output_type": "stream",
     "text": [
      "--- Upper Triangular Matrix ---\n",
      "[[ 1.  2.  1.  0.]\n",
      " [ 0. -4.  1.  4.]\n",
      " [ 0.  0. -2. 12.]]\n",
      "\n",
      "The solution vector is: [11.  -2.5 -6. ]\n",
      "\n",
      "Verification successful!\n"
     ]
    }
   ],
   "source": [
    "# --- Test for Gaussian Elimination Method ---\n",
    "# The same linear system\n",
    "data_n = 3\n",
    "data_A_augmented = np.array([[1, 2, 1, 0],\n",
    "                             [1, -2, 2, 4],\n",
    "                             [2, 12, -2, 4]])\n",
    "\n",
    "solution_x_gauss = get_result_gaussian_elimination(data_n, data_A_augmented)\n",
    "\n",
    "print(f\"\\nThe solution vector is: {solution_x_gauss}\")\n",
    "\n",
    "# --- Verification ---\n",
    "expected_solution = np.array([11., -2.5, -6.])\n",
    "np.testing.assert_array_almost_equal(solution_x_gauss, expected_solution)\n",
    "print(\"\\nVerification successful!\")"
   ]
  },
  {
   "cell_type": "markdown",
   "metadata": {
    "id": "cX7lY9OWIXax"
   },
   "source": [
    "## Daily Evaluation - 4 Marks\n",
    "\n",
    "1.  Given the matrix `A = [[2, -1, 0], [-1, 2, -1], [0, -1, 2]]`, use NumPy to explicitly calculate `A_inv = A⁻¹` and then verify that `A @ A_inv` results in the identity matrix `I`.\n",
    "\n",
    "2.  Given the matrix `B = [[1, 2, 3, 4], [2, 4, 6, 8], [3, 6, 9, 12], [4, 8, 12, 16]]`, calculate its determinant using NumPy. What does the result of the determinant tell you about this matrix and its suitability for solving a linear system for a unique solution?"
   ]
  },
  {
   "cell_type": "code",
   "execution_count": null,
   "metadata": {
    "colab": {
     "base_uri": "https://localhost:8080/"
    },
    "executionInfo": {
     "elapsed": 21,
     "status": "ok",
     "timestamp": 1756339360650,
     "user": {
      "displayName": "Apurba Kumar Nath",
      "userId": "11121278900815178892"
     },
     "user_tz": -360
    },
    "id": "FkFPjl_0Iigj",
    "outputId": "ca18cc93-da12-4a9e-8e46-4ebcee259951"
   },
   "outputs": [
    {
     "name": "stdout",
     "output_type": "stream",
     "text": [
      "--- Part 1: Verifying the Identity ---\n",
      "Matrix A_inv:\n",
      " [[0.75 0.5  0.25]\n",
      " [0.5  1.   0.5 ]\n",
      " [0.25 0.5  0.75]]\n",
      "\n",
      "The product A @ A_inv is:\n",
      " [[ 1.  0.  0.]\n",
      " [ 0.  1. -0.]\n",
      " [-0. -0.  1.]]\n",
      "\n",
      "This is the 3x3 Identity Matrix, as expected.\n",
      "\n",
      "==================================================\n",
      "\n",
      "--- Part 2: Checking the Determinant ---\n",
      "The determinant of matrix B is: 0.0\n",
      "\n",
      "--- Implications ---\n",
      "Since the determinant is 0, the matrix B is singular.\n",
      "This means that B does not have an inverse, and the linear system Bx=b does not have a unique solution.\n",
      "The system will either have NO solution or INFINITELY MANY solutions, depending on the vector b.\n"
     ]
    }
   ],
   "source": [
    "import numpy as np\n",
    "\n",
    "# --- Part 1 ---\n",
    "print(\"--- Part 1: Verifying the Identity ---\")\n",
    "A = np.array([[2, -1, 0],\n",
    "              [-1, 2, -1],\n",
    "              [0, -1, 2]])\n",
    "\n",
    "# Calculate the inverse\n",
    "A_inv = np.linalg.inv(A)\n",
    "print(\"Matrix A_inv:\\n\", A_inv)\n",
    "\n",
    "# Verify A @ A_inv = I\n",
    "identity = A @ A_inv\n",
    "# We round the result to handle tiny floating point errors\n",
    "identity_rounded = np.round(identity, decimals=5)\n",
    "\n",
    "print(\"\\nThe product A @ A_inv is:\\n\", identity_rounded)\n",
    "print(\"\\nThis is the 3x3 Identity Matrix, as expected.\")\n",
    "\n",
    "print(\"\\n\" + \"=\"*50 + \"\\n\")\n",
    "\n",
    "# --- Part 2 ---\n",
    "print(\"--- Part 2: Checking the Determinant ---\")\n",
    "B = np.array([[1, 2, 3, 4],\n",
    "              [2, 4, 6, 8],\n",
    "              [3, 6, 9, 12],\n",
    "              [4, 8, 12, 16]])\n",
    "\n",
    "# Calculate the determinant\n",
    "det_B = np.linalg.det(B)\n",
    "print(f\"The determinant of matrix B is: {det_B}\")\n",
    "\n",
    "print(\"\\n--- Implications ---\")\n",
    "print(\"Since the determinant is 0, the matrix B is singular.\")\n",
    "print(\"This means that B does not have an inverse, and the linear system Bx=b does not have a unique solution.\")\n",
    "print(\"The system will either have NO solution or INFINITELY MANY solutions, depending on the vector b.\")"
   ]
  }
 ],
 "metadata": {
  "colab": {
   "authorship_tag": "ABX9TyPlAAOcyYsEKXvEcWe3m8dT",
   "provenance": []
  },
  "kernelspec": {
   "display_name": "Python 3",
   "name": "python3"
  },
  "language_info": {
   "name": "python"
  }
 },
 "nbformat": 4,
 "nbformat_minor": 0
}
